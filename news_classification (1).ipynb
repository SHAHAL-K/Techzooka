{
 "cells": [
  {
   "cell_type": "markdown",
   "id": "9cbc214f",
   "metadata": {},
   "source": [
    "The plan is to install it for a logistics organisation that manages numerous apps by separate teams. Therefore, when a user complains about a delay or one of the applications, it can be difficult for the service desk to assign the incident to the right team. After we automate BOT, whenever the user inputs a description of their issue, our model will learn from the past and assign the ticket to the appropriate team."
   ]
  },
  {
   "cell_type": "markdown",
   "id": "caea725f",
   "metadata": {},
   "source": [
    "As per the company's privacy concerns, we are constructing a text classification algorithm using the bbc news data that is currently available. In this scenario, the news are being classified using a similar tactic to what we want to do in practise. We can construct the model once we get the necessary data collection."
   ]
  },
  {
   "cell_type": "markdown",
   "id": "9a4287bd",
   "metadata": {},
   "source": [
    "### Prototype"
   ]
  },
  {
   "cell_type": "code",
   "execution_count": 15,
   "id": "5dc1d038",
   "metadata": {},
   "outputs": [],
   "source": [
    "import pandas as pd\n",
    "import numpy as np\n",
    "import seaborn as sns\n",
    "import matplotlib.pyplot as plt\n",
    "%matplotlib inline\n",
    "import warnings\n",
    "warnings.filterwarnings('ignore')\n",
    "import nltk"
   ]
  },
  {
   "cell_type": "code",
   "execution_count": 16,
   "id": "edf5d1bd",
   "metadata": {},
   "outputs": [],
   "source": [
    "train=pd.read_csv(r'D:\\BBC News Train.csv\\BBC News Train.csv')\n",
    "test=pd.read_csv(r'D:\\BBC News Test.csv\\BBC News Test.csv')\n",
    "data=pd.concat([train,test],axis=0,ignore_index=True)"
   ]
  },
  {
   "cell_type": "code",
   "execution_count": 17,
   "id": "21868f64",
   "metadata": {
    "scrolled": true
   },
   "outputs": [
    {
     "data": {
      "text/html": [
       "<div>\n",
       "<style scoped>\n",
       "    .dataframe tbody tr th:only-of-type {\n",
       "        vertical-align: middle;\n",
       "    }\n",
       "\n",
       "    .dataframe tbody tr th {\n",
       "        vertical-align: top;\n",
       "    }\n",
       "\n",
       "    .dataframe thead th {\n",
       "        text-align: right;\n",
       "    }\n",
       "</style>\n",
       "<table border=\"1\" class=\"dataframe\">\n",
       "  <thead>\n",
       "    <tr style=\"text-align: right;\">\n",
       "      <th></th>\n",
       "      <th>ArticleId</th>\n",
       "      <th>Text</th>\n",
       "      <th>Category</th>\n",
       "    </tr>\n",
       "  </thead>\n",
       "  <tbody>\n",
       "    <tr>\n",
       "      <th>0</th>\n",
       "      <td>1833</td>\n",
       "      <td>worldcom ex-boss launches defence lawyers defe...</td>\n",
       "      <td>business</td>\n",
       "    </tr>\n",
       "    <tr>\n",
       "      <th>1</th>\n",
       "      <td>154</td>\n",
       "      <td>german business confidence slides german busin...</td>\n",
       "      <td>business</td>\n",
       "    </tr>\n",
       "    <tr>\n",
       "      <th>2</th>\n",
       "      <td>1101</td>\n",
       "      <td>bbc poll indicates economic gloom citizens in ...</td>\n",
       "      <td>business</td>\n",
       "    </tr>\n",
       "    <tr>\n",
       "      <th>3</th>\n",
       "      <td>1976</td>\n",
       "      <td>lifestyle  governs mobile choice  faster  bett...</td>\n",
       "      <td>tech</td>\n",
       "    </tr>\n",
       "    <tr>\n",
       "      <th>4</th>\n",
       "      <td>917</td>\n",
       "      <td>enron bosses in $168m payout eighteen former e...</td>\n",
       "      <td>business</td>\n",
       "    </tr>\n",
       "  </tbody>\n",
       "</table>\n",
       "</div>"
      ],
      "text/plain": [
       "   ArticleId                                               Text  Category\n",
       "0       1833  worldcom ex-boss launches defence lawyers defe...  business\n",
       "1        154  german business confidence slides german busin...  business\n",
       "2       1101  bbc poll indicates economic gloom citizens in ...  business\n",
       "3       1976  lifestyle  governs mobile choice  faster  bett...      tech\n",
       "4        917  enron bosses in $168m payout eighteen former e...  business"
      ]
     },
     "execution_count": 17,
     "metadata": {},
     "output_type": "execute_result"
    }
   ],
   "source": [
    "data.head()"
   ]
  },
  {
   "cell_type": "code",
   "execution_count": 18,
   "id": "21ab8382",
   "metadata": {},
   "outputs": [
    {
     "data": {
      "text/plain": [
       "ArticleId    2225\n",
       "Text         2126\n",
       "Category        5\n",
       "dtype: int64"
      ]
     },
     "execution_count": 18,
     "metadata": {},
     "output_type": "execute_result"
    }
   ],
   "source": [
    "data.nunique()"
   ]
  },
  {
   "cell_type": "code",
   "execution_count": 19,
   "id": "4df3c4de",
   "metadata": {},
   "outputs": [
    {
     "data": {
      "text/plain": [
       "(2225, 3)"
      ]
     },
     "execution_count": 19,
     "metadata": {},
     "output_type": "execute_result"
    }
   ],
   "source": [
    "data.shape\n"
   ]
  },
  {
   "cell_type": "code",
   "execution_count": 20,
   "id": "77dfeff4",
   "metadata": {},
   "outputs": [
    {
     "data": {
      "text/plain": [
       "0"
      ]
     },
     "execution_count": 20,
     "metadata": {},
     "output_type": "execute_result"
    }
   ],
   "source": [
    "data.duplicated().sum()"
   ]
  },
  {
   "cell_type": "code",
   "execution_count": 21,
   "id": "c135f7e6",
   "metadata": {},
   "outputs": [
    {
     "data": {
      "text/plain": [
       "ArticleId      0\n",
       "Text           0\n",
       "Category     735\n",
       "dtype: int64"
      ]
     },
     "execution_count": 21,
     "metadata": {},
     "output_type": "execute_result"
    }
   ],
   "source": [
    "data.isna().sum()"
   ]
  },
  {
   "cell_type": "markdown",
   "id": "db1d7bd0",
   "metadata": {},
   "source": [
    "data is moderately well balanced "
   ]
  },
  {
   "cell_type": "code",
   "execution_count": 22,
   "id": "243b3862",
   "metadata": {},
   "outputs": [],
   "source": [
    "data.drop('ArticleId',axis=1,inplace=True)"
   ]
  },
  {
   "cell_type": "code",
   "execution_count": 23,
   "id": "1dc7c034",
   "metadata": {},
   "outputs": [],
   "source": [
    "data['Text']=data['Text'].str.lower()"
   ]
  },
  {
   "cell_type": "code",
   "execution_count": 24,
   "id": "6fcc7104",
   "metadata": {},
   "outputs": [],
   "source": [
    "import re\n",
    "def remove_html(Text):\n",
    "    pattern=re.compile('<.#?>')\n",
    "    return pattern.sub(r'',Text)\n",
    "data['Text']=data['Text'].apply(remove_html)"
   ]
  },
  {
   "cell_type": "code",
   "execution_count": 25,
   "id": "02fe4d90",
   "metadata": {},
   "outputs": [],
   "source": [
    "import string \n",
    "exclude=string.punctuation\n",
    "def remove_punct(text):\n",
    "    for i in exclude:\n",
    "        text=text.replace(i,'')\n",
    "    return text\n",
    "data['Text']=data['Text'].apply(remove_punct)"
   ]
  },
  {
   "cell_type": "code",
   "execution_count": 26,
   "id": "a3a91f5b",
   "metadata": {},
   "outputs": [],
   "source": [
    "import re\n",
    "def remove_url(text):\n",
    "    return re.sub(r'https?:\\S*''','',text)\n",
    "data['Text']=data['Text'].apply(remove_url)"
   ]
  },
  {
   "cell_type": "code",
   "execution_count": 27,
   "id": "973e3b0b",
   "metadata": {},
   "outputs": [
    {
     "data": {
      "text/html": [
       "<div>\n",
       "<style scoped>\n",
       "    .dataframe tbody tr th:only-of-type {\n",
       "        vertical-align: middle;\n",
       "    }\n",
       "\n",
       "    .dataframe tbody tr th {\n",
       "        vertical-align: top;\n",
       "    }\n",
       "\n",
       "    .dataframe thead th {\n",
       "        text-align: right;\n",
       "    }\n",
       "</style>\n",
       "<table border=\"1\" class=\"dataframe\">\n",
       "  <thead>\n",
       "    <tr style=\"text-align: right;\">\n",
       "      <th></th>\n",
       "      <th>Text</th>\n",
       "      <th>Category</th>\n",
       "    </tr>\n",
       "  </thead>\n",
       "  <tbody>\n",
       "    <tr>\n",
       "      <th>0</th>\n",
       "      <td>worldcom exboss launches defence lawyers defen...</td>\n",
       "      <td>business</td>\n",
       "    </tr>\n",
       "    <tr>\n",
       "      <th>1</th>\n",
       "      <td>german business confidence slides german busin...</td>\n",
       "      <td>business</td>\n",
       "    </tr>\n",
       "    <tr>\n",
       "      <th>2</th>\n",
       "      <td>bbc poll indicates economic gloom citizens in ...</td>\n",
       "      <td>business</td>\n",
       "    </tr>\n",
       "    <tr>\n",
       "      <th>3</th>\n",
       "      <td>lifestyle  governs mobile choice  faster  bett...</td>\n",
       "      <td>tech</td>\n",
       "    </tr>\n",
       "    <tr>\n",
       "      <th>4</th>\n",
       "      <td>enron bosses in 168m payout eighteen former en...</td>\n",
       "      <td>business</td>\n",
       "    </tr>\n",
       "    <tr>\n",
       "      <th>...</th>\n",
       "      <td>...</td>\n",
       "      <td>...</td>\n",
       "    </tr>\n",
       "    <tr>\n",
       "      <th>2220</th>\n",
       "      <td>eu to probe alitalia  state aid  the european ...</td>\n",
       "      <td>NaN</td>\n",
       "    </tr>\n",
       "    <tr>\n",
       "      <th>2221</th>\n",
       "      <td>u2 to play at grammy awards show irish rock ba...</td>\n",
       "      <td>NaN</td>\n",
       "    </tr>\n",
       "    <tr>\n",
       "      <th>2222</th>\n",
       "      <td>sport betting rules in spotlight a group of mp...</td>\n",
       "      <td>NaN</td>\n",
       "    </tr>\n",
       "    <tr>\n",
       "      <th>2223</th>\n",
       "      <td>alfa romeos  to get gm engines  fiat is to sto...</td>\n",
       "      <td>NaN</td>\n",
       "    </tr>\n",
       "    <tr>\n",
       "      <th>2224</th>\n",
       "      <td>citizenship event for 18s touted citizenship c...</td>\n",
       "      <td>NaN</td>\n",
       "    </tr>\n",
       "  </tbody>\n",
       "</table>\n",
       "<p>2225 rows × 2 columns</p>\n",
       "</div>"
      ],
      "text/plain": [
       "                                                   Text  Category\n",
       "0     worldcom exboss launches defence lawyers defen...  business\n",
       "1     german business confidence slides german busin...  business\n",
       "2     bbc poll indicates economic gloom citizens in ...  business\n",
       "3     lifestyle  governs mobile choice  faster  bett...      tech\n",
       "4     enron bosses in 168m payout eighteen former en...  business\n",
       "...                                                 ...       ...\n",
       "2220  eu to probe alitalia  state aid  the european ...       NaN\n",
       "2221  u2 to play at grammy awards show irish rock ba...       NaN\n",
       "2222  sport betting rules in spotlight a group of mp...       NaN\n",
       "2223  alfa romeos  to get gm engines  fiat is to sto...       NaN\n",
       "2224  citizenship event for 18s touted citizenship c...       NaN\n",
       "\n",
       "[2225 rows x 2 columns]"
      ]
     },
     "execution_count": 27,
     "metadata": {},
     "output_type": "execute_result"
    }
   ],
   "source": [
    "data"
   ]
  },
  {
   "cell_type": "code",
   "execution_count": 28,
   "id": "130b4ef6",
   "metadata": {},
   "outputs": [],
   "source": [
    "def remove_num(text):\n",
    "    pattern=r'[^a-zA-z.,!?/:;\\\"\\'\\s]'\n",
    "    return re.sub(pattern,'',text)\n",
    "data['Text']=data['Text'].apply(remove_num)"
   ]
  },
  {
   "cell_type": "code",
   "execution_count": 29,
   "id": "30ee004e",
   "metadata": {},
   "outputs": [
    {
     "data": {
      "text/plain": [
       "['i',\n",
       " 'me',\n",
       " 'my',\n",
       " 'myself',\n",
       " 'we',\n",
       " 'our',\n",
       " 'ours',\n",
       " 'ourselves',\n",
       " 'you',\n",
       " \"you're\",\n",
       " \"you've\",\n",
       " \"you'll\",\n",
       " \"you'd\",\n",
       " 'your',\n",
       " 'yours',\n",
       " 'yourself',\n",
       " 'yourselves',\n",
       " 'he',\n",
       " 'him',\n",
       " 'his',\n",
       " 'himself',\n",
       " 'she',\n",
       " \"she's\",\n",
       " 'her',\n",
       " 'hers',\n",
       " 'herself',\n",
       " 'it',\n",
       " \"it's\",\n",
       " 'its',\n",
       " 'itself',\n",
       " 'they',\n",
       " 'them',\n",
       " 'their',\n",
       " 'theirs',\n",
       " 'themselves',\n",
       " 'what',\n",
       " 'which',\n",
       " 'who',\n",
       " 'whom',\n",
       " 'this',\n",
       " 'that',\n",
       " \"that'll\",\n",
       " 'these',\n",
       " 'those',\n",
       " 'am',\n",
       " 'is',\n",
       " 'are',\n",
       " 'was',\n",
       " 'were',\n",
       " 'be',\n",
       " 'been',\n",
       " 'being',\n",
       " 'have',\n",
       " 'has',\n",
       " 'had',\n",
       " 'having',\n",
       " 'do',\n",
       " 'does',\n",
       " 'did',\n",
       " 'doing',\n",
       " 'a',\n",
       " 'an',\n",
       " 'the',\n",
       " 'and',\n",
       " 'but',\n",
       " 'if',\n",
       " 'or',\n",
       " 'because',\n",
       " 'as',\n",
       " 'until',\n",
       " 'while',\n",
       " 'of',\n",
       " 'at',\n",
       " 'by',\n",
       " 'for',\n",
       " 'with',\n",
       " 'about',\n",
       " 'against',\n",
       " 'between',\n",
       " 'into',\n",
       " 'through',\n",
       " 'during',\n",
       " 'before',\n",
       " 'after',\n",
       " 'above',\n",
       " 'below',\n",
       " 'to',\n",
       " 'from',\n",
       " 'up',\n",
       " 'down',\n",
       " 'in',\n",
       " 'out',\n",
       " 'on',\n",
       " 'off',\n",
       " 'over',\n",
       " 'under',\n",
       " 'again',\n",
       " 'further',\n",
       " 'then',\n",
       " 'once',\n",
       " 'here',\n",
       " 'there',\n",
       " 'when',\n",
       " 'where',\n",
       " 'why',\n",
       " 'how',\n",
       " 'all',\n",
       " 'any',\n",
       " 'both',\n",
       " 'each',\n",
       " 'few',\n",
       " 'more',\n",
       " 'most',\n",
       " 'other',\n",
       " 'some',\n",
       " 'such',\n",
       " 'no',\n",
       " 'nor',\n",
       " 'not',\n",
       " 'only',\n",
       " 'own',\n",
       " 'same',\n",
       " 'so',\n",
       " 'than',\n",
       " 'too',\n",
       " 'very',\n",
       " 's',\n",
       " 't',\n",
       " 'can',\n",
       " 'will',\n",
       " 'just',\n",
       " 'don',\n",
       " \"don't\",\n",
       " 'should',\n",
       " \"should've\",\n",
       " 'now',\n",
       " 'd',\n",
       " 'll',\n",
       " 'm',\n",
       " 'o',\n",
       " 're',\n",
       " 've',\n",
       " 'y',\n",
       " 'ain',\n",
       " 'aren',\n",
       " \"aren't\",\n",
       " 'couldn',\n",
       " \"couldn't\",\n",
       " 'didn',\n",
       " \"didn't\",\n",
       " 'doesn',\n",
       " \"doesn't\",\n",
       " 'hadn',\n",
       " \"hadn't\",\n",
       " 'hasn',\n",
       " \"hasn't\",\n",
       " 'haven',\n",
       " \"haven't\",\n",
       " 'isn',\n",
       " \"isn't\",\n",
       " 'ma',\n",
       " 'mightn',\n",
       " \"mightn't\",\n",
       " 'mustn',\n",
       " \"mustn't\",\n",
       " 'needn',\n",
       " \"needn't\",\n",
       " 'shan',\n",
       " \"shan't\",\n",
       " 'shouldn',\n",
       " \"shouldn't\",\n",
       " 'wasn',\n",
       " \"wasn't\",\n",
       " 'weren',\n",
       " \"weren't\",\n",
       " 'won',\n",
       " \"won't\",\n",
       " 'wouldn',\n",
       " \"wouldn't\"]"
      ]
     },
     "execution_count": 29,
     "metadata": {},
     "output_type": "execute_result"
    }
   ],
   "source": [
    "from nltk.corpus import stopwords\n",
    "stopwords.words('english')"
   ]
  },
  {
   "cell_type": "code",
   "execution_count": 30,
   "id": "59fc80e4",
   "metadata": {},
   "outputs": [],
   "source": [
    "data['text_token']=data['Text'].apply(lambda x:nltk.word_tokenize(x))"
   ]
  },
  {
   "cell_type": "code",
   "execution_count": 31,
   "id": "97fa5d9b",
   "metadata": {},
   "outputs": [],
   "source": [
    "def stopword(text):\n",
    "    y=[]\n",
    "    for i in text:\n",
    "        if i not in stopwords.words('english'):\n",
    "            y.append(i)\n",
    "    return \" \".join(y)\n",
    "data['text_token']=data['text_token'].apply(stopword)"
   ]
  },
  {
   "cell_type": "code",
   "execution_count": 32,
   "id": "b52b2010",
   "metadata": {},
   "outputs": [],
   "source": [
    "from nltk.stem import WordNetLemmatizer\n",
    "lemmatizer = WordNetLemmatizer()\n",
    "data['text_token']=data['text_token'].apply(lambda x: lemmatizer.lemmatize(x))"
   ]
  },
  {
   "cell_type": "code",
   "execution_count": 33,
   "id": "a6066409",
   "metadata": {},
   "outputs": [
    {
     "data": {
      "text/html": [
       "<div>\n",
       "<style scoped>\n",
       "    .dataframe tbody tr th:only-of-type {\n",
       "        vertical-align: middle;\n",
       "    }\n",
       "\n",
       "    .dataframe tbody tr th {\n",
       "        vertical-align: top;\n",
       "    }\n",
       "\n",
       "    .dataframe thead th {\n",
       "        text-align: right;\n",
       "    }\n",
       "</style>\n",
       "<table border=\"1\" class=\"dataframe\">\n",
       "  <thead>\n",
       "    <tr style=\"text-align: right;\">\n",
       "      <th></th>\n",
       "      <th>Text</th>\n",
       "      <th>Category</th>\n",
       "      <th>text_token</th>\n",
       "    </tr>\n",
       "  </thead>\n",
       "  <tbody>\n",
       "    <tr>\n",
       "      <th>0</th>\n",
       "      <td>worldcom exboss launches defence lawyers defen...</td>\n",
       "      <td>business</td>\n",
       "      <td>worldcom exboss launches defence lawyers defen...</td>\n",
       "    </tr>\n",
       "    <tr>\n",
       "      <th>1</th>\n",
       "      <td>german business confidence slides german busin...</td>\n",
       "      <td>business</td>\n",
       "      <td>german business confidence slides german busin...</td>\n",
       "    </tr>\n",
       "    <tr>\n",
       "      <th>2</th>\n",
       "      <td>bbc poll indicates economic gloom citizens in ...</td>\n",
       "      <td>business</td>\n",
       "      <td>bbc poll indicates economic gloom citizens maj...</td>\n",
       "    </tr>\n",
       "    <tr>\n",
       "      <th>3</th>\n",
       "      <td>lifestyle  governs mobile choice  faster  bett...</td>\n",
       "      <td>tech</td>\n",
       "      <td>lifestyle governs mobile choice faster better ...</td>\n",
       "    </tr>\n",
       "    <tr>\n",
       "      <th>4</th>\n",
       "      <td>enron bosses in m payout eighteen former enron...</td>\n",
       "      <td>business</td>\n",
       "      <td>enron bosses payout eighteen former enron dire...</td>\n",
       "    </tr>\n",
       "    <tr>\n",
       "      <th>...</th>\n",
       "      <td>...</td>\n",
       "      <td>...</td>\n",
       "      <td>...</td>\n",
       "    </tr>\n",
       "    <tr>\n",
       "      <th>2220</th>\n",
       "      <td>eu to probe alitalia  state aid  the european ...</td>\n",
       "      <td>NaN</td>\n",
       "      <td>eu probe alitalia state aid european commissio...</td>\n",
       "    </tr>\n",
       "    <tr>\n",
       "      <th>2221</th>\n",
       "      <td>u to play at grammy awards show irish rock ban...</td>\n",
       "      <td>NaN</td>\n",
       "      <td>u play grammy awards show irish rock band u pl...</td>\n",
       "    </tr>\n",
       "    <tr>\n",
       "      <th>2222</th>\n",
       "      <td>sport betting rules in spotlight a group of mp...</td>\n",
       "      <td>NaN</td>\n",
       "      <td>sport betting rules spotlight group mps peers ...</td>\n",
       "    </tr>\n",
       "    <tr>\n",
       "      <th>2223</th>\n",
       "      <td>alfa romeos  to get gm engines  fiat is to sto...</td>\n",
       "      <td>NaN</td>\n",
       "      <td>alfa romeos get gm engines fiat stop making si...</td>\n",
       "    </tr>\n",
       "    <tr>\n",
       "      <th>2224</th>\n",
       "      <td>citizenship event for s touted citizenship cer...</td>\n",
       "      <td>NaN</td>\n",
       "      <td>citizenship event touted citizenship ceremonie...</td>\n",
       "    </tr>\n",
       "  </tbody>\n",
       "</table>\n",
       "<p>2225 rows × 3 columns</p>\n",
       "</div>"
      ],
      "text/plain": [
       "                                                   Text  Category  \\\n",
       "0     worldcom exboss launches defence lawyers defen...  business   \n",
       "1     german business confidence slides german busin...  business   \n",
       "2     bbc poll indicates economic gloom citizens in ...  business   \n",
       "3     lifestyle  governs mobile choice  faster  bett...      tech   \n",
       "4     enron bosses in m payout eighteen former enron...  business   \n",
       "...                                                 ...       ...   \n",
       "2220  eu to probe alitalia  state aid  the european ...       NaN   \n",
       "2221  u to play at grammy awards show irish rock ban...       NaN   \n",
       "2222  sport betting rules in spotlight a group of mp...       NaN   \n",
       "2223  alfa romeos  to get gm engines  fiat is to sto...       NaN   \n",
       "2224  citizenship event for s touted citizenship cer...       NaN   \n",
       "\n",
       "                                             text_token  \n",
       "0     worldcom exboss launches defence lawyers defen...  \n",
       "1     german business confidence slides german busin...  \n",
       "2     bbc poll indicates economic gloom citizens maj...  \n",
       "3     lifestyle governs mobile choice faster better ...  \n",
       "4     enron bosses payout eighteen former enron dire...  \n",
       "...                                                 ...  \n",
       "2220  eu probe alitalia state aid european commissio...  \n",
       "2221  u play grammy awards show irish rock band u pl...  \n",
       "2222  sport betting rules spotlight group mps peers ...  \n",
       "2223  alfa romeos get gm engines fiat stop making si...  \n",
       "2224  citizenship event touted citizenship ceremonie...  \n",
       "\n",
       "[2225 rows x 3 columns]"
      ]
     },
     "execution_count": 33,
     "metadata": {},
     "output_type": "execute_result"
    }
   ],
   "source": [
    "data"
   ]
  },
  {
   "cell_type": "markdown",
   "id": "72979dd0",
   "metadata": {},
   "source": [
    "### text vectorization "
   ]
  },
  {
   "cell_type": "markdown",
   "id": "6cbd240b",
   "metadata": {},
   "source": [
    "Count vectorization"
   ]
  },
  {
   "cell_type": "code",
   "execution_count": 34,
   "id": "4e89ef91",
   "metadata": {
    "scrolled": false
   },
   "outputs": [
    {
     "data": {
      "text/plain": [
       "\"from sklearn.feature_extraction.text import CountVectorizer\\nCountvec=CountVectorizer(min_df=2,max_df=5)\\nx_counts=Countvec.fit_transform(data['text_token'])\\nprint(x_counts.shape)\\nprint(Countvec.get_feature_names()[15:30])\""
      ]
     },
     "execution_count": 34,
     "metadata": {},
     "output_type": "execute_result"
    }
   ],
   "source": [
    "'''from sklearn.feature_extraction.text import CountVectorizer\n",
    "Countvec=CountVectorizer(min_df=2,max_df=5)\n",
    "x_counts=Countvec.fit_transform(data['text_token'])\n",
    "print(x_counts.shape)\n",
    "print(Countvec.get_feature_names()[15:30])'''"
   ]
  },
  {
   "cell_type": "markdown",
   "id": "744690ae",
   "metadata": {},
   "source": [
    "TF-IDF Method"
   ]
  },
  {
   "cell_type": "code",
   "execution_count": 35,
   "id": "bca63aae",
   "metadata": {},
   "outputs": [
    {
     "name": "stdout",
     "output_type": "stream",
     "text": [
      "(2225, 60149)\n",
      "[7.60934924 7.60934924 7.60934924 ... 7.60934924 7.60934924 7.60934924]\n",
      "['abc network', 'abc television', 'abdellatif kechiche', 'ability browse', 'ability collect', 'ability control', 'ability ensure', 'ability everyone', 'ability games', 'ability handle', 'ability helping', 'ability hijack', 'ability influence', 'ability joked', 'ability listen']\n"
     ]
    }
   ],
   "source": [
    "from sklearn.feature_extraction.text import TfidfVectorizer\n",
    "tfidf=TfidfVectorizer(ngram_range=(2,2),min_df=2,max_df=5)\n",
    "x_tf=tfidf.fit_transform(data['text_token'])\n",
    "print(x_tf.shape)\n",
    "print(tfidf.idf_)\n",
    "print(tfidf.get_feature_names()[15:30])"
   ]
  },
  {
   "cell_type": "markdown",
   "id": "bf162898",
   "metadata": {},
   "source": [
    "### Model creation"
   ]
  },
  {
   "cell_type": "code",
   "execution_count": 36,
   "id": "6ec3e1ca",
   "metadata": {},
   "outputs": [
    {
     "data": {
      "text/plain": [
       "(1490, 3)"
      ]
     },
     "execution_count": 36,
     "metadata": {},
     "output_type": "execute_result"
    }
   ],
   "source": [
    "train.shape"
   ]
  },
  {
   "cell_type": "code",
   "execution_count": 37,
   "id": "aaee28c4",
   "metadata": {},
   "outputs": [],
   "source": [
    "train=data.iloc[:1490,:]\n",
    "test=data.iloc[1490:,:]"
   ]
  },
  {
   "cell_type": "code",
   "execution_count": 38,
   "id": "6543992a",
   "metadata": {},
   "outputs": [],
   "source": [
    "X = tfidf.transform(train.text_token).toarray()"
   ]
  },
  {
   "cell_type": "code",
   "execution_count": 39,
   "id": "4b872a3d",
   "metadata": {},
   "outputs": [],
   "source": [
    "y = train['Category'].map({'business':0, 'entertainment':1, 'politics':2,'sport':3,'tech':4})"
   ]
  },
  {
   "cell_type": "code",
   "execution_count": 40,
   "id": "e0449fc1",
   "metadata": {},
   "outputs": [],
   "source": [
    "from sklearn.model_selection import train_test_split\n",
    "x_train,x_test,y_train,y_test=train_test_split(X,y,test_size=0.2,random_state=42)"
   ]
  },
  {
   "cell_type": "code",
   "execution_count": 41,
   "id": "6af7529d",
   "metadata": {},
   "outputs": [
    {
     "data": {
      "text/plain": [
       "'from sklearn.linear_model import LogisticRegression\\nfrom sklearn.metrics import accuracy_score,precision_score,recall_score,confusion_matrix\\nlr=LogisticRegression()\\nlr.fit(x_train,y_train)\\ny_pred=lr.predict(x_test)\\nprint(\"accuracy score\", accuracy_score(y_pred,y_test))\\nprint(\\'precision {} -------- recall{} \\'.format(precision_score(y_pred,y_test,average=\\'weighted\\'),recall_score(y_test,y_pred,average=\\'weighted\\')))'"
      ]
     },
     "execution_count": 41,
     "metadata": {},
     "output_type": "execute_result"
    }
   ],
   "source": [
    "'''from sklearn.linear_model import LogisticRegression\n",
    "from sklearn.metrics import accuracy_score,precision_score,recall_score,confusion_matrix\n",
    "lr=LogisticRegression()\n",
    "lr.fit(x_train,y_train)\n",
    "y_pred=lr.predict(x_test)\n",
    "print(\"accuracy score\", accuracy_score(y_pred,y_test))\n",
    "print('precision {} -------- recall{} '.format(precision_score(y_pred,y_test,average='weighted'),recall_score(y_test,y_pred,average='weighted')))'''"
   ]
  },
  {
   "cell_type": "code",
   "execution_count": 42,
   "id": "ccb94fe5",
   "metadata": {},
   "outputs": [
    {
     "data": {
      "text/plain": [
       "'from sklearn.ensemble import RandomForestClassifier\\nrf=RandomForestClassifier()\\nrf.fit(x_train,y_train)\\ny_pred=rf.predict(x_test)\\nprint(\"accuracy score\", accuracy_score(y_pred,y_test))\\nprint(\\'precision {} -------- recall{} \\'.format(precision_score(y_pred,y_test,average=\\'weighted\\'),recall_score(y_test,y_pred,average=\\'weighted\\')))'"
      ]
     },
     "execution_count": 42,
     "metadata": {},
     "output_type": "execute_result"
    }
   ],
   "source": [
    "'''from sklearn.ensemble import RandomForestClassifier\n",
    "rf=RandomForestClassifier()\n",
    "rf.fit(x_train,y_train)\n",
    "y_pred=rf.predict(x_test)\n",
    "print(\"accuracy score\", accuracy_score(y_pred,y_test))\n",
    "print('precision {} -------- recall{} '.format(precision_score(y_pred,y_test,average='weighted'),recall_score(y_test,y_pred,average='weighted')))'''"
   ]
  },
  {
   "cell_type": "code",
   "execution_count": 43,
   "id": "14ba2da3",
   "metadata": {},
   "outputs": [
    {
     "name": "stdout",
     "output_type": "stream",
     "text": [
      "accuracy score 0.7919463087248322\n",
      "precision 0.8752032409011218 -------- recall0.7919463087248322 \n"
     ]
    }
   ],
   "source": [
    "from sklearn.naive_bayes import MultinomialNB\n",
    "from sklearn.metrics import accuracy_score,precision_score,recall_score,confusion_matrix\n",
    "mb=MultinomialNB()\n",
    "mb.fit(x_train,y_train)\n",
    "y_pred=mb.predict(x_test)\n",
    "print(\"accuracy score\", accuracy_score(y_pred,y_test))\n",
    "print('precision {} -------- recall{} '.format(precision_score(y_pred,y_test,average='weighted'),recall_score(y_test,y_pred,average='weighted')))"
   ]
  },
  {
   "cell_type": "code",
   "execution_count": 44,
   "id": "14e0ba31",
   "metadata": {},
   "outputs": [
    {
     "data": {
      "text/plain": [
       "'from sklearn import svm\\nsv=svm.SVC()\\nsv.fit(x_train,y_train)\\ny_pred=sv.predict(x_test)\\nprint(\"accuracy score\", accuracy_score(y_pred,y_test))\\nprint(\\'precision {} -------- recall{} \\'.format(precision_score(y_pred,y_test,average=\\'weighted\\'),recall_score(y_test,y_pred,average=\\'weighted\\')))'"
      ]
     },
     "execution_count": 44,
     "metadata": {},
     "output_type": "execute_result"
    }
   ],
   "source": [
    "'''from sklearn import svm\n",
    "sv=svm.SVC()\n",
    "sv.fit(x_train,y_train)\n",
    "y_pred=sv.predict(x_test)\n",
    "print(\"accuracy score\", accuracy_score(y_pred,y_test))\n",
    "print('precision {} -------- recall{} '.format(precision_score(y_pred,y_test,average='weighted'),recall_score(y_test,y_pred,average='weighted')))'''"
   ]
  },
  {
   "cell_type": "code",
   "execution_count": 45,
   "id": "bf2e005e",
   "metadata": {},
   "outputs": [],
   "source": [
    "#test=test.drop('Category',axis=1)\n",
    "vect = tfidf.transform(test['text_token'])\n",
    "test['Result']=mb.predict(vect)\n",
    "test['Results']=test['Result'].map({0:'business', 1:'entertainment', 2: 'politics',3: 'sport',4: 'tech'})"
   ]
  },
  {
   "cell_type": "code",
   "execution_count": 46,
   "id": "5679d7d2",
   "metadata": {},
   "outputs": [
    {
     "data": {
      "text/plain": [
       "'eu to probe alitalia  state aid  the european commission has officially launched an indepth investigation into whether italian airline alitalia is receiving illegal state aid  commission officials are to look at rome s provision of a m euro m m loan to the carrier both the italian government and alitalia have repeatedly denied that the money  part of a vital restructuring plan  is state aid the investigation could take up to  months however  transport commissioner jacques barrot said he wanted it to be carried out as swiftly as possible  the italian authorities have presented a serious industrial plan   said mr barot  we now have to verify certain aspects to confirm that this plan contains no state aid i would like our analysis to be completed swiftly   the matter of possible state aid was brought to the commission s attention by eight of alitalia s rivals  including germany s lufthansa  british airways and spain s iberia while alitalia needs to restructure to bring itself back to profitability  the rival carriers say it has both violated state aid rules and threatened competition alitalia lost m euros in  as it struggled to get to grips with high costs  spiralling oil prices  competition from budget carriers and reduced demand it plans to split into az fly and az services  which will handle air and ground services respectively alitalia already enjoyed state aid in  eu rules prevent that from happening again in what is known as the  one time  last time  rule for airlines otherwise  eu regulations on state aid stipulate that governments may help companies financially  but only on the same terms as a commercial investor the airline declined to comment on the commission decision'"
      ]
     },
     "execution_count": 46,
     "metadata": {},
     "output_type": "execute_result"
    }
   ],
   "source": [
    "test.loc[2220][0]"
   ]
  },
  {
   "cell_type": "code",
   "execution_count": 49,
   "id": "7cda1ab2",
   "metadata": {},
   "outputs": [
    {
     "name": "stdout",
     "output_type": "stream",
     "text": [
      "Your good name pls:shahal\n",
      "Hi shahal ,what's your today's news for us\n",
      "'eu to probe alitalia  state aid  the european commission has officially launched an indepth investigation into whether italian airline alitalia is receiving illegal state aid  commission officials are to look at rome s provision of a m euro m m loan to the carrier both the italian government and alitalia have repeatedly denied that the money  part of a vital restructuring plan  is state aid the investigation could take up to  months however  transport commissioner jacques barrot said he wanted it to be carried out as swiftly as possible  the italian authorities have presented a serious industrial plan   said mr barot  we now have to verify certain aspects to confirm that this plan contains no state aid i would like our analysis to be completed swiftly   the matter of possible state aid was brought to the commission s attention by eight of alitalia s rivals  including germany s lufthansa  british airways and spain s iberia while alitalia needs to restructure to bring itself back to profitability  the rival carriers say it has both violated state aid rules and threatened competition alitalia lost m euros in  as it struggled to get to grips with high costs  spiralling oil prices  competition from budget carriers and reduced demand it plans to split into az fly and az services  which will handle air and ground services respectively alitalia already enjoyed state aid in  eu rules prevent that from happening again in what is known as the  one time  last time  rule for airlines otherwise  eu regulations on state aid stipulate that governments may help companies financially  but only on the same terms as a commercial investor the airline declined to comment on the commission decision'\n",
      "/n/n/n\n",
      "Thanks for the details, your news will lies under Business category\n"
     ]
    }
   ],
   "source": [
    "name=input(\"Your good name pls:\")\n",
    "print('Hi',name, \",what's your today's news for us\")\n",
    "news=[input()]\n",
    "vect = tfidf.transform(news)\n",
    "final=mb.predict(vect)\n",
    "print('/n/n/n')\n",
    "for i in final:\n",
    "    if i==0:\n",
    "        print(\"Thanks for the details, your news will lies under Business category\")\n",
    "    elif i==1:\n",
    "        print(\"Thanks for the details, your news will lies under Entertainment category\")\n",
    "    elif i==2:\n",
    "        print(\"Thanks for the details, your news will lies under Politics category\")\n",
    "    elif i==3:\n",
    "        print(\"Thanks for the details, your news will lies under Sports category\")\n",
    "    else:\n",
    "        print(\"Thanks for the details, your news will lies under Tech category\")"
   ]
  }
 ],
 "metadata": {
  "kernelspec": {
   "display_name": "Python 3 (ipykernel)",
   "language": "python",
   "name": "python3"
  },
  "language_info": {
   "codemirror_mode": {
    "name": "ipython",
    "version": 3
   },
   "file_extension": ".py",
   "mimetype": "text/x-python",
   "name": "python",
   "nbconvert_exporter": "python",
   "pygments_lexer": "ipython3",
   "version": "3.9.12"
  }
 },
 "nbformat": 4,
 "nbformat_minor": 5
}
